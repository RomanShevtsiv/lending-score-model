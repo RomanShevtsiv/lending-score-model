{
 "cells": [
  {
   "cell_type": "markdown",
   "metadata": {},
   "source": [
    "# Loans EDA"
   ]
  },
  {
   "cell_type": "markdown",
   "metadata": {},
   "source": [
    "## Fields description\n",
    "\n",
    "`profile_id` is the unique identificator of a customer. One customer could have many loans.\n",
    "\n",
    "`app_id` is the unique identificator of an application. One customer could have many applications and not every application results in a loan.\n",
    "\n",
    "`loan` is the unique identificator of a loan.\n",
    "\n",
    "`begin_date` is the date when a loan was granted to a client.\n",
    "\n",
    "`end_date` is the planned date of repayment according to loan's schedule. If a loan was prolongued this date will account for the last planned date of repayment.\n",
    "\n",
    "`amount` is the amount granted to the a client when a loan was originated.\n",
    "\n",
    "`product` is the internal classification of financial structure of a loan as a product. **START** corresponds to the product with initial commission and then some grace period for interest. **START_11** as oposite has no initial commission by incorporates intrest rate form the vary begining. Total loan overpayment is the same for both products.\n",
    "\n",
    "`status` is the status of a loan. Possible values are: **OVERDUE**, **REPAID**, **CLOSED**. There is only technical difference between **REPAID** and **CLOSED**. Thus status **REPAID** can be treated as **CLOSED** for the purpose of this analysis.\n",
    "\n",
    "`lodging_cnt` accounts for the number of prolongations of a loan.\n",
    "\n",
    "`repayment_ratio` is the total amount repayed by a customer divided by begin amount granted to that customer in boundaries of a single loan."
   ]
  },
  {
   "cell_type": "markdown",
   "metadata": {},
   "source": [
    "## Additional notes from the owners of the dataset\n",
    "\n",
    "1. Loans granted before 2018-06-01 where technicaly test loans and should be omited for the purpose of this analysis.\n",
    "\n",
    "2. For the loans granted from 2018-06-01 till February 2019 loan amount was limited at 2 UAHk. Somewhere at the end of February 2019 the cap was raised to 3 UAHk for new clients ans 4 UAHk for existing clients.\n",
    "\n",
    "3. During autumn 2018 they conducted kind of test granting some bad customers 100 UAH loans instead of rejecting their applications.\n",
    "\n",
    "4. During February-March 2019 they conducted kind of another test granting some bad customers 500 UAH loans instead of rejecting their applications.\n",
    "\n",
    "5. Marketing activity was different during different months. This data can't be shared within this project.\n",
    "\n",
    "6. It's suggested to treat loan as **GOOD** if it was repayed 90% of the begin amount or more and to treat loan as **GOOD** if it was repayed 10% of the begin amount or less. It's hard to classify loans if the repayment ratio is between 10% and 90%. Loans can be classified only 90 days after the date of origination."
   ]
  },
  {
   "cell_type": "markdown",
   "metadata": {},
   "source": [
    "## Load data"
   ]
  },
  {
   "cell_type": "code",
   "execution_count": 1,
   "metadata": {},
   "outputs": [],
   "source": [
    "# load libraries\n",
    "\n",
    "import pandas as pd\n",
    "import matplotlib.pyplot as plt\n",
    "import seaborn as sns"
   ]
  },
  {
   "cell_type": "code",
   "execution_count": 2,
   "metadata": {},
   "outputs": [
    {
     "data": {
      "text/html": [
       "<div>\n",
       "<style scoped>\n",
       "    .dataframe tbody tr th:only-of-type {\n",
       "        vertical-align: middle;\n",
       "    }\n",
       "\n",
       "    .dataframe tbody tr th {\n",
       "        vertical-align: top;\n",
       "    }\n",
       "\n",
       "    .dataframe thead th {\n",
       "        text-align: right;\n",
       "    }\n",
       "</style>\n",
       "<table border=\"1\" class=\"dataframe\">\n",
       "  <thead>\n",
       "    <tr style=\"text-align: right;\">\n",
       "      <th></th>\n",
       "      <th>profile_id</th>\n",
       "      <th>app_id</th>\n",
       "      <th>loan</th>\n",
       "      <th>begin_date</th>\n",
       "      <th>end_date</th>\n",
       "      <th>amount</th>\n",
       "      <th>product</th>\n",
       "      <th>status</th>\n",
       "      <th>lodging_cnt</th>\n",
       "      <th>repayment_ratio</th>\n",
       "    </tr>\n",
       "  </thead>\n",
       "  <tbody>\n",
       "    <tr>\n",
       "      <th>0</th>\n",
       "      <td>158618</td>\n",
       "      <td>848153</td>\n",
       "      <td>34275</td>\n",
       "      <td>2020-01-16</td>\n",
       "      <td>2020-02-25</td>\n",
       "      <td>3500.0</td>\n",
       "      <td>START_11</td>\n",
       "      <td>CLOSED</td>\n",
       "      <td>1</td>\n",
       "      <td>1.486</td>\n",
       "    </tr>\n",
       "    <tr>\n",
       "      <th>1</th>\n",
       "      <td>709513</td>\n",
       "      <td>509688</td>\n",
       "      <td>21025</td>\n",
       "      <td>2019-06-14</td>\n",
       "      <td>2019-06-28</td>\n",
       "      <td>700.0</td>\n",
       "      <td>START_11</td>\n",
       "      <td>CLOSED</td>\n",
       "      <td>0</td>\n",
       "      <td>1.000</td>\n",
       "    </tr>\n",
       "    <tr>\n",
       "      <th>2</th>\n",
       "      <td>690248</td>\n",
       "      <td>518539</td>\n",
       "      <td>21232</td>\n",
       "      <td>2019-06-19</td>\n",
       "      <td>2019-06-30</td>\n",
       "      <td>2000.0</td>\n",
       "      <td>START_11</td>\n",
       "      <td>CLOSED</td>\n",
       "      <td>0</td>\n",
       "      <td>1.054</td>\n",
       "    </tr>\n",
       "    <tr>\n",
       "      <th>3</th>\n",
       "      <td>753344</td>\n",
       "      <td>755195</td>\n",
       "      <td>30938</td>\n",
       "      <td>2019-11-23</td>\n",
       "      <td>2019-12-07</td>\n",
       "      <td>700.0</td>\n",
       "      <td>START_11</td>\n",
       "      <td>CLOSED</td>\n",
       "      <td>0</td>\n",
       "      <td>1.036</td>\n",
       "    </tr>\n",
       "    <tr>\n",
       "      <th>4</th>\n",
       "      <td>416384</td>\n",
       "      <td>393817</td>\n",
       "      <td>17844</td>\n",
       "      <td>2019-04-09</td>\n",
       "      <td>2019-05-04</td>\n",
       "      <td>2300.0</td>\n",
       "      <td>START_11</td>\n",
       "      <td>CLOSED</td>\n",
       "      <td>1</td>\n",
       "      <td>1.180</td>\n",
       "    </tr>\n",
       "  </tbody>\n",
       "</table>\n",
       "</div>"
      ],
      "text/plain": [
       "   profile_id  app_id   loan  begin_date    end_date  amount   product  \\\n",
       "0      158618  848153  34275  2020-01-16  2020-02-25  3500.0  START_11   \n",
       "1      709513  509688  21025  2019-06-14  2019-06-28   700.0  START_11   \n",
       "2      690248  518539  21232  2019-06-19  2019-06-30  2000.0  START_11   \n",
       "3      753344  755195  30938  2019-11-23  2019-12-07   700.0  START_11   \n",
       "4      416384  393817  17844  2019-04-09  2019-05-04  2300.0  START_11   \n",
       "\n",
       "   status  lodging_cnt  repayment_ratio  \n",
       "0  CLOSED            1            1.486  \n",
       "1  CLOSED            0            1.000  \n",
       "2  CLOSED            0            1.054  \n",
       "3  CLOSED            0            1.036  \n",
       "4  CLOSED            1            1.180  "
      ]
     },
     "execution_count": 2,
     "metadata": {},
     "output_type": "execute_result"
    }
   ],
   "source": [
    "# load data\n",
    "\n",
    "df_loans = pd.read_csv('loans.csv')\n",
    "df_loans.head()"
   ]
  },
  {
   "cell_type": "code",
   "execution_count": 3,
   "metadata": {},
   "outputs": [],
   "source": [
    "# convert 'begin_date' and 'end_date' fields to datetime type\n",
    "df_loans.loc[:,['begin_date', 'end_date']] = df_loans[['begin_date', 'end_date']].transform(pd.to_datetime)\n",
    "\n",
    "# drop test loans and \"young\" loans\n",
    "df_loans = df_loans[(df_loans['begin_date'] >= '2018-06-01') & (df_loans['begin_date'] < '2020-01-01')]\n",
    "\n",
    "# simplify status\n",
    "df_loans['status'] = df_loans['status'].transform(lambda x: 'CLOSED' if x == 'REPAID' else x)\n"
   ]
  },
  {
   "cell_type": "markdown",
   "metadata": {},
   "source": [
    "## Basic overview"
   ]
  },
  {
   "cell_type": "code",
   "execution_count": 4,
   "metadata": {
    "scrolled": false
   },
   "outputs": [
    {
     "name": "stdout",
     "output_type": "stream",
     "text": [
      "<class 'pandas.core.frame.DataFrame'>\n",
      "Int64Index: 13466 entries, 1 to 13931\n",
      "Data columns (total 10 columns):\n",
      " #   Column           Non-Null Count  Dtype         \n",
      "---  ------           --------------  -----         \n",
      " 0   profile_id       13466 non-null  int64         \n",
      " 1   app_id           13466 non-null  int64         \n",
      " 2   loan             13466 non-null  int64         \n",
      " 3   begin_date       13466 non-null  datetime64[ns]\n",
      " 4   end_date         13466 non-null  datetime64[ns]\n",
      " 5   amount           13466 non-null  float64       \n",
      " 6   product          13466 non-null  object        \n",
      " 7   status           13466 non-null  object        \n",
      " 8   lodging_cnt      13466 non-null  int64         \n",
      " 9   repayment_ratio  13466 non-null  float64       \n",
      "dtypes: datetime64[ns](2), float64(2), int64(4), object(2)\n",
      "memory usage: 1.1+ MB\n"
     ]
    }
   ],
   "source": [
    "df_loans.info()"
   ]
  },
  {
   "cell_type": "code",
   "execution_count": 5,
   "metadata": {},
   "outputs": [
    {
     "data": {
      "text/html": [
       "<div>\n",
       "<style scoped>\n",
       "    .dataframe tbody tr th:only-of-type {\n",
       "        vertical-align: middle;\n",
       "    }\n",
       "\n",
       "    .dataframe tbody tr th {\n",
       "        vertical-align: top;\n",
       "    }\n",
       "\n",
       "    .dataframe thead th {\n",
       "        text-align: right;\n",
       "    }\n",
       "</style>\n",
       "<table border=\"1\" class=\"dataframe\">\n",
       "  <thead>\n",
       "    <tr style=\"text-align: right;\">\n",
       "      <th></th>\n",
       "      <th>amount</th>\n",
       "      <th>lodging_cnt</th>\n",
       "      <th>repayment_ratio</th>\n",
       "    </tr>\n",
       "  </thead>\n",
       "  <tbody>\n",
       "    <tr>\n",
       "      <th>count</th>\n",
       "      <td>13466.000000</td>\n",
       "      <td>13466.000000</td>\n",
       "      <td>13466.000000</td>\n",
       "    </tr>\n",
       "    <tr>\n",
       "      <th>mean</th>\n",
       "      <td>1954.329422</td>\n",
       "      <td>0.346280</td>\n",
       "      <td>1.084885</td>\n",
       "    </tr>\n",
       "    <tr>\n",
       "      <th>std</th>\n",
       "      <td>1090.155543</td>\n",
       "      <td>0.968125</td>\n",
       "      <td>0.818851</td>\n",
       "    </tr>\n",
       "    <tr>\n",
       "      <th>min</th>\n",
       "      <td>100.000000</td>\n",
       "      <td>0.000000</td>\n",
       "      <td>0.000000</td>\n",
       "    </tr>\n",
       "    <tr>\n",
       "      <th>25%</th>\n",
       "      <td>1000.000000</td>\n",
       "      <td>0.000000</td>\n",
       "      <td>0.252000</td>\n",
       "    </tr>\n",
       "    <tr>\n",
       "      <th>50%</th>\n",
       "      <td>2000.000000</td>\n",
       "      <td>0.000000</td>\n",
       "      <td>1.162000</td>\n",
       "    </tr>\n",
       "    <tr>\n",
       "      <th>75%</th>\n",
       "      <td>3000.000000</td>\n",
       "      <td>0.000000</td>\n",
       "      <td>1.455071</td>\n",
       "    </tr>\n",
       "    <tr>\n",
       "      <th>max</th>\n",
       "      <td>4000.000000</td>\n",
       "      <td>19.000000</td>\n",
       "      <td>7.395910</td>\n",
       "    </tr>\n",
       "  </tbody>\n",
       "</table>\n",
       "</div>"
      ],
      "text/plain": [
       "             amount   lodging_cnt  repayment_ratio\n",
       "count  13466.000000  13466.000000     13466.000000\n",
       "mean    1954.329422      0.346280         1.084885\n",
       "std     1090.155543      0.968125         0.818851\n",
       "min      100.000000      0.000000         0.000000\n",
       "25%     1000.000000      0.000000         0.252000\n",
       "50%     2000.000000      0.000000         1.162000\n",
       "75%     3000.000000      0.000000         1.455071\n",
       "max     4000.000000     19.000000         7.395910"
      ]
     },
     "execution_count": 5,
     "metadata": {},
     "output_type": "execute_result"
    }
   ],
   "source": [
    "df_loans.drop(['profile_id', 'app_id', 'loan'], axis='columns').describe()"
   ]
  },
  {
   "cell_type": "code",
   "execution_count": 6,
   "metadata": {},
   "outputs": [
    {
     "data": {
      "text/plain": [
       "count                   13466\n",
       "unique                    577\n",
       "top       2019-03-01 00:00:00\n",
       "freq                      257\n",
       "first     2018-06-03 00:00:00\n",
       "last      2019-12-31 00:00:00\n",
       "Name: begin_date, dtype: object"
      ]
     },
     "execution_count": 6,
     "metadata": {},
     "output_type": "execute_result"
    }
   ],
   "source": [
    "df_loans['begin_date'].describe()"
   ]
  },
  {
   "cell_type": "code",
   "execution_count": 7,
   "metadata": {},
   "outputs": [
    {
     "data": {
      "text/plain": [
       "count                   13466\n",
       "unique                    600\n",
       "top       2019-03-15 00:00:00\n",
       "freq                      142\n",
       "first     2018-06-14 00:00:00\n",
       "last      2020-02-27 00:00:00\n",
       "Name: end_date, dtype: object"
      ]
     },
     "execution_count": 7,
     "metadata": {},
     "output_type": "execute_result"
    }
   ],
   "source": [
    "df_loans['end_date'].describe()"
   ]
  },
  {
   "cell_type": "code",
   "execution_count": 8,
   "metadata": {},
   "outputs": [
    {
     "data": {
      "text/plain": [
       "START_11    10122\n",
       "START        3344\n",
       "Name: product, dtype: int64"
      ]
     },
     "execution_count": 8,
     "metadata": {},
     "output_type": "execute_result"
    }
   ],
   "source": [
    "df_loans['product'].value_counts()"
   ]
  },
  {
   "cell_type": "code",
   "execution_count": 9,
   "metadata": {},
   "outputs": [
    {
     "data": {
      "text/plain": [
       "CLOSED     9137\n",
       "OVERDUE    4329\n",
       "Name: status, dtype: int64"
      ]
     },
     "execution_count": 9,
     "metadata": {},
     "output_type": "execute_result"
    }
   ],
   "source": [
    "df_loans['status'].value_counts()"
   ]
  },
  {
   "cell_type": "code",
   "execution_count": 18,
   "metadata": {},
   "outputs": [
    {
     "data": {
      "image/png": "[encoded data removed]",
      "text/plain": [
       "<Figure size 1080x360 with 2 Axes>"
      ]
     },
     "metadata": {
      "needs_background": "light"
     },
     "output_type": "display_data"
    }
   ],
   "source": [
    "plt.subplots(1, 2, figsize=(15,5))\n",
    "plt.subplot(1,2,1)\n",
    "plt.hist(df_loans['lodging_cnt'], bins = 30)\n",
    "plt.xlabel('Number of prolongations')\n",
    "plt.title('Including zero prolongations')\n",
    "plt.subplot(1,2,2)\n",
    "plt.hist(df_loans[df_loans['lodging_cnt'] > 0]['lodging_cnt'], bins = 30)\n",
    "plt.xlabel('Number of prolongations')\n",
    "plt.title('Omiting zero prolongations')\n",
    "plt.show()"
   ]
  },
  {
   "cell_type": "code",
   "execution_count": 35,
   "metadata": {},
   "outputs": [
    {
     "data": {
      "image/png": "[encoded data removed]",
      "text/plain": [
       "<Figure size 1080x432 with 1 Axes>"
      ]
     },
     "metadata": {
      "needs_background": "light"
     },
     "output_type": "display_data"
    }
   ],
   "source": [
    "plt.figure(figsize=(15,6))\n",
    "sns.distplot(df_loans['repayment_ratio'])\n",
    "plt.axvline(x=0.1, linestyle='--', color='r')\n",
    "plt.axvline(x=0.9, linestyle='--', color='r')\n",
    "plt.text(x=-0.5, y=0.5, s='BAD', color='r', horizontalalignment='center')\n",
    "plt.text(x=0.5, y=0.5, s='UNDEFINED', color='k', horizontalalignment='center')\n",
    "plt.text(x=2, y=0.5, s='GOOD', color='g', horizontalalignment='center')\n",
    "plt.xlabel('Repayment ratio')\n",
    "plt.show()"
   ]
  },
  {
   "cell_type": "markdown",
   "metadata": {},
   "source": [
    "<u>Thoughts</u>\n",
    "\n",
    "Looks like it's better to investigate further who are those clients with repayments ratio from 10% to 60%."
   ]
  },
  {
   "cell_type": "code",
   "execution_count": 8,
   "metadata": {},
   "outputs": [
    {
     "data": {
      "text/html": [
       "<div>\n",
       "<style scoped>\n",
       "    .dataframe tbody tr th:only-of-type {\n",
       "        vertical-align: middle;\n",
       "    }\n",
       "\n",
       "    .dataframe tbody tr th {\n",
       "        vertical-align: top;\n",
       "    }\n",
       "\n",
       "    .dataframe thead th {\n",
       "        text-align: right;\n",
       "    }\n",
       "</style>\n",
       "<table border=\"1\" class=\"dataframe\">\n",
       "  <thead>\n",
       "    <tr style=\"text-align: right;\">\n",
       "      <th></th>\n",
       "      <th>profiles</th>\n",
       "    </tr>\n",
       "    <tr>\n",
       "      <th>loans</th>\n",
       "      <th></th>\n",
       "    </tr>\n",
       "  </thead>\n",
       "  <tbody>\n",
       "    <tr>\n",
       "      <th>1</th>\n",
       "      <td>5894</td>\n",
       "    </tr>\n",
       "    <tr>\n",
       "      <th>2</th>\n",
       "      <td>1704</td>\n",
       "    </tr>\n",
       "    <tr>\n",
       "      <th>3</th>\n",
       "      <td>607</td>\n",
       "    </tr>\n",
       "    <tr>\n",
       "      <th>4</th>\n",
       "      <td>257</td>\n",
       "    </tr>\n",
       "    <tr>\n",
       "      <th>5</th>\n",
       "      <td>144</td>\n",
       "    </tr>\n",
       "  </tbody>\n",
       "</table>\n",
       "</div>"
      ],
      "text/plain": [
       "       profiles\n",
       "loans          \n",
       "1          5894\n",
       "2          1704\n",
       "3           607\n",
       "4           257\n",
       "5           144"
      ]
     },
     "execution_count": 8,
     "metadata": {},
     "output_type": "execute_result"
    }
   ],
   "source": [
    "(df_loans.groupby('profile_id')\n",
    "         .agg(loans=pd.NamedAgg(column='loan', aggfunc='count'))\n",
    "         .reset_index()\n",
    "         .groupby('loans')\n",
    "         .agg(profiles=pd.NamedAgg(column='profile_id', aggfunc='count'))\n",
    "         .head()\n",
    ")"
   ]
  },
  {
   "cell_type": "markdown",
   "metadata": {},
   "source": [
    "<u>Thoughts</u>\n",
    "    \n",
    "- most of the clients takes only one loan\n",
    "- some clients recieves 2-5 loans\n",
    "- only a few clients gets 6 and more loans\n",
    "\n",
    "It looks natural to devide clients into 3 groups:\n",
    "    \n",
    "- `1st` loan\n",
    "- `2nd` loan\n",
    "- `3rd+` loan"
   ]
  },
  {
   "cell_type": "code",
   "execution_count": 9,
   "metadata": {},
   "outputs": [
    {
     "data": {
      "text/html": [
       "<div>\n",
       "<style scoped>\n",
       "    .dataframe tbody tr th:only-of-type {\n",
       "        vertical-align: middle;\n",
       "    }\n",
       "\n",
       "    .dataframe tbody tr th {\n",
       "        vertical-align: top;\n",
       "    }\n",
       "\n",
       "    .dataframe thead th {\n",
       "        text-align: right;\n",
       "    }\n",
       "</style>\n",
       "<table border=\"1\" class=\"dataframe\">\n",
       "  <thead>\n",
       "    <tr style=\"text-align: right;\">\n",
       "      <th></th>\n",
       "      <th>profiles</th>\n",
       "    </tr>\n",
       "    <tr>\n",
       "      <th>loans</th>\n",
       "      <th></th>\n",
       "    </tr>\n",
       "  </thead>\n",
       "  <tbody>\n",
       "    <tr>\n",
       "      <th>1</th>\n",
       "      <td>5894</td>\n",
       "    </tr>\n",
       "    <tr>\n",
       "      <th>2</th>\n",
       "      <td>1704</td>\n",
       "    </tr>\n",
       "    <tr>\n",
       "      <th>3+</th>\n",
       "      <td>1145</td>\n",
       "    </tr>\n",
       "  </tbody>\n",
       "</table>\n",
       "</div>"
      ],
      "text/plain": [
       "       profiles\n",
       "loans          \n",
       "1          5894\n",
       "2          1704\n",
       "3+         1145"
      ]
     },
     "execution_count": 9,
     "metadata": {},
     "output_type": "execute_result"
    }
   ],
   "source": [
    "(df_loans.groupby('profile_id')\n",
    "         .agg(loans=pd.NamedAgg(column='loan', aggfunc='count'))\n",
    "         .reset_index()\n",
    "         .groupby('loans')\n",
    "         .agg(profiles=pd.NamedAgg(column='profile_id', aggfunc='count'))\n",
    "         .reset_index()\n",
    "         .transform(func={'loans': (lambda x: '3+' if x >= 3 else str(x)), 'profiles': (lambda x: x)})\n",
    "         .groupby('loans')\n",
    "         .agg(profiles=pd.NamedAgg(column='profiles', aggfunc='sum'))\n",
    ")"
   ]
  },
  {
   "cell_type": "code",
   "execution_count": 72,
   "metadata": {},
   "outputs": [
    {
     "data": {
      "image/png": "[encoded data removed]",
      "text/plain": [
       "<Figure size 1080x360 with 1 Axes>"
      ]
     },
     "metadata": {
      "needs_background": "light"
     },
     "output_type": "display_data"
    }
   ],
   "source": [
    "df_by_day = (df_loans['begin_date']\n",
    "       .value_counts()\n",
    "       .sort_index()\n",
    "   \n",
    ")\n",
    "\n",
    "plt.figure(figsize=(15,5))\n",
    "plt.plot(df_by_day.index, df_by_day, zorder=2)\n",
    "plt.ylabel('Daily loans')\n",
    "plt.grid(axis='y', linestyle='--')\n",
    "plt.show()"
   ]
  },
  {
   "cell_type": "code",
   "execution_count": 74,
   "metadata": {},
   "outputs": [
    {
     "data": {
      "image/png": "[encoded data removed]",
      "text/plain": [
       "<Figure size 864x360 with 1 Axes>"
      ]
     },
     "metadata": {
      "needs_background": "light"
     },
     "output_type": "display_data"
    }
   ],
   "source": [
    "df_by_month = (df_loans['begin_date']\n",
    "    .dt.strftime('%Y-%m')\n",
    "    .value_counts()\n",
    "    .sort_index()\n",
    ")\n",
    "\n",
    "plt.figure(figsize=(12,5))\n",
    "plt.bar(df_by_month.index, df_by_month, zorder=2)\n",
    "plt.xticks(rotation='vertical')\n",
    "plt.ylabel('Monthly loans')\n",
    "plt.grid(axis='y', linestyle='--')\n",
    "plt.show()"
   ]
  },
  {
   "cell_type": "code",
   "execution_count": 85,
   "metadata": {},
   "outputs": [
    {
     "data": {
      "image/png": "[encoded data removed]",
      "text/plain": [
       "<Figure size 1080x360 with 1 Axes>"
      ]
     },
     "metadata": {
      "needs_background": "light"
     },
     "output_type": "display_data"
    }
   ],
   "source": [
    "df_by_mday = (df_loans['begin_date']\n",
    "    .dt.day\n",
    "    .value_counts()\n",
    "    .sort_index()\n",
    ")\n",
    "\n",
    "plt.figure(figsize=(15,5))\n",
    "plt.bar(df_by_mday.index, df_by_mday, zorder=2)\n",
    "plt.xlabel('Day of the month')\n",
    "plt.ylabel('Number of loans')\n",
    "plt.grid(axis='y', linestyle='--')\n",
    "plt.show()"
   ]
  },
  {
   "cell_type": "code",
   "execution_count": 96,
   "metadata": {},
   "outputs": [
    {
     "data": {
      "image/png": "[encoded data removed]",
      "text/plain": [
       "<Figure size 720x360 with 1 Axes>"
      ]
     },
     "metadata": {
      "needs_background": "light"
     },
     "output_type": "display_data"
    }
   ],
   "source": [
    "df_by_wday = (df_loans['begin_date']\n",
    "    .dt.weekday\n",
    "    .value_counts()\n",
    "    .sort_index()\n",
    ")\n",
    "\n",
    "plt.figure(figsize=(10,5))\n",
    "plt.bar(df_by_wday.index, df_by_wday, zorder=2)\n",
    "plt.xticks(ticks=[0,1,2,3,4,5,6,0], labels=['Sunday','Monday','Tuesday','Thirsady','Wednsday','Friday','Saturday'])\n",
    "plt.xlabel('Day of the month')\n",
    "plt.ylabel('Number of loans')\n",
    "plt.grid(axis='y', linestyle='--')\n",
    "plt.show()"
   ]
  }
 ],
 "metadata": {
  "kernelspec": {
   "display_name": "Python 3",
   "language": "python",
   "name": "python3"
  },
  "language_info": {
   "codemirror_mode": {
    "name": "ipython",
    "version": 3
   },
   "file_extension": ".py",
   "mimetype": "text/x-python",
   "name": "python",
   "nbconvert_exporter": "python",
   "pygments_lexer": "ipython3",
   "version": "3.8.2"
  }
 },
 "nbformat": 4,
 "nbformat_minor": 4
}
