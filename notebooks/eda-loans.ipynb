{
 "cells": [
  {
   "cell_type": "markdown",
   "metadata": {},
   "source": [
    "# Loans EDA"
   ]
  },
  {
   "cell_type": "markdown",
   "metadata": {},
   "source": [
    "## Fields description\n",
    "\n",
    "`profile_id` is the unique identificator of a customer. One customer could have many loans.\n",
    "\n",
    "`app_id` is the unique identificator of an application. One customer could have many applications and not every application results in a loan.\n",
    "\n",
    "`loan` is the unique identificator of a loan.\n",
    "\n",
    "`begin_date` is the date when a loan was granted to a client.\n",
    "\n",
    "`end_date` is the planned date of repayment according to loan's schedule. If a loan was prolongued this date will account for the last planned date of repayment.\n",
    "\n",
    "`amount` is the amount granted to the a client when a loan was originated.\n",
    "\n",
    "`product` is the internal classification of financial structure of a loan as a product. **START** corresponds to the product with initial commission and then some grace period for interest. **START_11** as oposite has no initial commission by incorporates intrest rate form the vary begining. Total loan overpayment is the same for both products.\n",
    "\n",
    "`status` is the status of a loan. Possible values are: **OVERDUE**, **REPAID**, **CLOSED**. There is only technical difference between **REPAID** and **CLOSED**. Thus status **REPAID** can be treated as **CLOSED** for the purpose of this analysis.\n",
    "\n",
    "`lodging_cnt` accounts for the number of prolongations of a loan.\n",
    "\n",
    "`repayment_ratio` is the total amount repayed by a customer divided by begin amount granted to that customer in boundaries of a single loan."
   ]
  },
  {
   "cell_type": "markdown",
   "metadata": {},
   "source": [
    "## Additional notes from the owners of the dataset\n",
    "\n",
    "1. Loans granted before 2018-06-01 where technicaly test loans and should be omited for the purpose of this analysis.\n",
    "\n",
    "2. For the loans granted from 2018-06-01 till February 2019 loan amount was limited at 2 UAHk. Somewhere at the end of February 2019 the cap was raised to 3 UAHk for new clients ans 4 UAHk for existing clients.\n",
    "\n",
    "3. During autumn 2018 they conducted kind of test granting some bad customers 100 UAH loans instead of rejecting their applications.\n",
    "\n",
    "4. During February-March 2019 they conducted kind of another test granting some bad customers 500 UAH loans instead of rejecting their applications.\n",
    "\n",
    "5. Marketing activity was different during different months. This data can't be shared within this project.\n",
    "\n",
    "6. It's suggested to treat loan as **GOOD** if it was repayed 90% of the begin amount or more and to treat loan as **GOOD** if it was repayed 10% of the begin amount or less. It's hard to classify loans if the repayment ratio is between 10% and 90%. Loans can be classified only 90 days after the date of origination."
   ]
  },
  {
   "cell_type": "markdown",
   "metadata": {},
   "source": [
    "## Load data"
   ]
  },
  {
   "cell_type": "code",
   "execution_count": 253,
   "metadata": {},
   "outputs": [],
   "source": [
    "# load libraries\n",
    "\n",
    "import pandas as pd\n",
    "import numpy as np\n",
    "import seaborn\n",
    "import matplotlib.pyplot as plt\n",
    "import seaborn as sns"
   ]
  },
  {
   "cell_type": "code",
   "execution_count": 13,
   "metadata": {},
   "outputs": [
    {
     "data": {
      "text/html": [
       "<div>\n",
       "<style scoped>\n",
       "    .dataframe tbody tr th:only-of-type {\n",
       "        vertical-align: middle;\n",
       "    }\n",
       "\n",
       "    .dataframe tbody tr th {\n",
       "        vertical-align: top;\n",
       "    }\n",
       "\n",
       "    .dataframe thead th {\n",
       "        text-align: right;\n",
       "    }\n",
       "</style>\n",
       "<table border=\"1\" class=\"dataframe\">\n",
       "  <thead>\n",
       "    <tr style=\"text-align: right;\">\n",
       "      <th></th>\n",
       "      <th>profile_id</th>\n",
       "      <th>app_id</th>\n",
       "      <th>loan</th>\n",
       "      <th>begin_date</th>\n",
       "      <th>end_date</th>\n",
       "      <th>amount</th>\n",
       "      <th>product</th>\n",
       "      <th>status</th>\n",
       "      <th>lodging_cnt</th>\n",
       "      <th>repayment_ratio</th>\n",
       "    </tr>\n",
       "  </thead>\n",
       "  <tbody>\n",
       "    <tr>\n",
       "      <td>0</td>\n",
       "      <td>158618</td>\n",
       "      <td>848153</td>\n",
       "      <td>34275</td>\n",
       "      <td>2020-01-16</td>\n",
       "      <td>2020-02-25</td>\n",
       "      <td>3500.0</td>\n",
       "      <td>START_11</td>\n",
       "      <td>CLOSED</td>\n",
       "      <td>1</td>\n",
       "      <td>1.486</td>\n",
       "    </tr>\n",
       "    <tr>\n",
       "      <td>1</td>\n",
       "      <td>709513</td>\n",
       "      <td>509688</td>\n",
       "      <td>21025</td>\n",
       "      <td>2019-06-14</td>\n",
       "      <td>2019-06-28</td>\n",
       "      <td>700.0</td>\n",
       "      <td>START_11</td>\n",
       "      <td>CLOSED</td>\n",
       "      <td>0</td>\n",
       "      <td>1.000</td>\n",
       "    </tr>\n",
       "    <tr>\n",
       "      <td>2</td>\n",
       "      <td>690248</td>\n",
       "      <td>518539</td>\n",
       "      <td>21232</td>\n",
       "      <td>2019-06-19</td>\n",
       "      <td>2019-06-30</td>\n",
       "      <td>2000.0</td>\n",
       "      <td>START_11</td>\n",
       "      <td>CLOSED</td>\n",
       "      <td>0</td>\n",
       "      <td>1.054</td>\n",
       "    </tr>\n",
       "    <tr>\n",
       "      <td>3</td>\n",
       "      <td>753344</td>\n",
       "      <td>755195</td>\n",
       "      <td>30938</td>\n",
       "      <td>2019-11-23</td>\n",
       "      <td>2019-12-07</td>\n",
       "      <td>700.0</td>\n",
       "      <td>START_11</td>\n",
       "      <td>CLOSED</td>\n",
       "      <td>0</td>\n",
       "      <td>1.036</td>\n",
       "    </tr>\n",
       "    <tr>\n",
       "      <td>4</td>\n",
       "      <td>416384</td>\n",
       "      <td>393817</td>\n",
       "      <td>17844</td>\n",
       "      <td>2019-04-09</td>\n",
       "      <td>2019-05-04</td>\n",
       "      <td>2300.0</td>\n",
       "      <td>START_11</td>\n",
       "      <td>CLOSED</td>\n",
       "      <td>1</td>\n",
       "      <td>1.180</td>\n",
       "    </tr>\n",
       "  </tbody>\n",
       "</table>\n",
       "</div>"
      ],
      "text/plain": [
       "   profile_id  app_id   loan  begin_date    end_date  amount   product  \\\n",
       "0      158618  848153  34275  2020-01-16  2020-02-25  3500.0  START_11   \n",
       "1      709513  509688  21025  2019-06-14  2019-06-28   700.0  START_11   \n",
       "2      690248  518539  21232  2019-06-19  2019-06-30  2000.0  START_11   \n",
       "3      753344  755195  30938  2019-11-23  2019-12-07   700.0  START_11   \n",
       "4      416384  393817  17844  2019-04-09  2019-05-04  2300.0  START_11   \n",
       "\n",
       "   status  lodging_cnt  repayment_ratio  \n",
       "0  CLOSED            1            1.486  \n",
       "1  CLOSED            0            1.000  \n",
       "2  CLOSED            0            1.054  \n",
       "3  CLOSED            0            1.036  \n",
       "4  CLOSED            1            1.180  "
      ]
     },
     "execution_count": 13,
     "metadata": {},
     "output_type": "execute_result"
    }
   ],
   "source": [
    "# load data\n",
    "\n",
    "df_loans = pd.read_csv('loans.csv')\n",
    "df_loans.head()"
   ]
  },
  {
   "cell_type": "code",
   "execution_count": 14,
   "metadata": {},
   "outputs": [],
   "source": [
    "# convert 'begin_date' and 'end_date' fields to datetime type\n",
    "df_loans.loc[:,['begin_date', 'end_date']] = df_loans[['begin_date', 'end_date']].transform(pd.to_datetime)\n",
    "\n",
    "# drop test loans and \"young\" loans\n",
    "df_loans = df_loans[(df_loans['begin_date'] >= '2018-06-01') & (df_loans['begin_date'] < '2020-01-01')]\n",
    "\n",
    "# simplify status\n",
    "df_loans['status'] = df_loans['status'].transform(lambda x: 'CLOSED' if x == 'REPAID' else x)\n"
   ]
  },
  {
   "cell_type": "markdown",
   "metadata": {},
   "source": [
    "## Basic overview"
   ]
  },
  {
   "cell_type": "code",
   "execution_count": 15,
   "metadata": {
    "scrolled": false
   },
   "outputs": [
    {
     "name": "stdout",
     "output_type": "stream",
     "text": [
      "<class 'pandas.core.frame.DataFrame'>\n",
      "Int64Index: 13466 entries, 1 to 13931\n",
      "Data columns (total 10 columns):\n",
      "profile_id         13466 non-null int64\n",
      "app_id             13466 non-null int64\n",
      "loan               13466 non-null int64\n",
      "begin_date         13466 non-null datetime64[ns]\n",
      "end_date           13466 non-null datetime64[ns]\n",
      "amount             13466 non-null float64\n",
      "product            13466 non-null object\n",
      "status             13466 non-null object\n",
      "lodging_cnt        13466 non-null int64\n",
      "repayment_ratio    13466 non-null float64\n",
      "dtypes: datetime64[ns](2), float64(2), int64(4), object(2)\n",
      "memory usage: 1.1+ MB\n"
     ]
    }
   ],
   "source": [
    "df_loans.info()"
   ]
  },
  {
   "cell_type": "code",
   "execution_count": 16,
   "metadata": {},
   "outputs": [
    {
     "data": {
      "text/html": [
       "<div>\n",
       "<style scoped>\n",
       "    .dataframe tbody tr th:only-of-type {\n",
       "        vertical-align: middle;\n",
       "    }\n",
       "\n",
       "    .dataframe tbody tr th {\n",
       "        vertical-align: top;\n",
       "    }\n",
       "\n",
       "    .dataframe thead th {\n",
       "        text-align: right;\n",
       "    }\n",
       "</style>\n",
       "<table border=\"1\" class=\"dataframe\">\n",
       "  <thead>\n",
       "    <tr style=\"text-align: right;\">\n",
       "      <th></th>\n",
       "      <th>amount</th>\n",
       "      <th>lodging_cnt</th>\n",
       "      <th>repayment_ratio</th>\n",
       "    </tr>\n",
       "  </thead>\n",
       "  <tbody>\n",
       "    <tr>\n",
       "      <td>count</td>\n",
       "      <td>13466.000000</td>\n",
       "      <td>13466.000000</td>\n",
       "      <td>13466.000000</td>\n",
       "    </tr>\n",
       "    <tr>\n",
       "      <td>mean</td>\n",
       "      <td>1954.329422</td>\n",
       "      <td>0.346280</td>\n",
       "      <td>1.084885</td>\n",
       "    </tr>\n",
       "    <tr>\n",
       "      <td>std</td>\n",
       "      <td>1090.155543</td>\n",
       "      <td>0.968125</td>\n",
       "      <td>0.818851</td>\n",
       "    </tr>\n",
       "    <tr>\n",
       "      <td>min</td>\n",
       "      <td>100.000000</td>\n",
       "      <td>0.000000</td>\n",
       "      <td>0.000000</td>\n",
       "    </tr>\n",
       "    <tr>\n",
       "      <td>25%</td>\n",
       "      <td>1000.000000</td>\n",
       "      <td>0.000000</td>\n",
       "      <td>0.252000</td>\n",
       "    </tr>\n",
       "    <tr>\n",
       "      <td>50%</td>\n",
       "      <td>2000.000000</td>\n",
       "      <td>0.000000</td>\n",
       "      <td>1.162000</td>\n",
       "    </tr>\n",
       "    <tr>\n",
       "      <td>75%</td>\n",
       "      <td>3000.000000</td>\n",
       "      <td>0.000000</td>\n",
       "      <td>1.455071</td>\n",
       "    </tr>\n",
       "    <tr>\n",
       "      <td>max</td>\n",
       "      <td>4000.000000</td>\n",
       "      <td>19.000000</td>\n",
       "      <td>7.395910</td>\n",
       "    </tr>\n",
       "  </tbody>\n",
       "</table>\n",
       "</div>"
      ],
      "text/plain": [
       "             amount   lodging_cnt  repayment_ratio\n",
       "count  13466.000000  13466.000000     13466.000000\n",
       "mean    1954.329422      0.346280         1.084885\n",
       "std     1090.155543      0.968125         0.818851\n",
       "min      100.000000      0.000000         0.000000\n",
       "25%     1000.000000      0.000000         0.252000\n",
       "50%     2000.000000      0.000000         1.162000\n",
       "75%     3000.000000      0.000000         1.455071\n",
       "max     4000.000000     19.000000         7.395910"
      ]
     },
     "execution_count": 16,
     "metadata": {},
     "output_type": "execute_result"
    }
   ],
   "source": [
    "df_loans.drop(['profile_id', 'app_id', 'loan'], axis='columns').describe()"
   ]
  },
  {
   "cell_type": "code",
   "execution_count": 17,
   "metadata": {},
   "outputs": [
    {
     "data": {
      "text/plain": [
       "count                   13466\n",
       "unique                    577\n",
       "top       2019-03-01 00:00:00\n",
       "freq                      257\n",
       "first     2018-06-03 00:00:00\n",
       "last      2019-12-31 00:00:00\n",
       "Name: begin_date, dtype: object"
      ]
     },
     "execution_count": 17,
     "metadata": {},
     "output_type": "execute_result"
    }
   ],
   "source": [
    "df_loans['begin_date'].describe()"
   ]
  },
  {
   "cell_type": "code",
   "execution_count": 18,
   "metadata": {},
   "outputs": [
    {
     "data": {
      "text/plain": [
       "count                   13466\n",
       "unique                    600\n",
       "top       2019-03-15 00:00:00\n",
       "freq                      142\n",
       "first     2018-06-14 00:00:00\n",
       "last      2020-02-27 00:00:00\n",
       "Name: end_date, dtype: object"
      ]
     },
     "execution_count": 18,
     "metadata": {},
     "output_type": "execute_result"
    }
   ],
   "source": [
    "df_loans['end_date'].describe()"
   ]
  },
  {
   "cell_type": "code",
   "execution_count": 19,
   "metadata": {},
   "outputs": [
    {
     "data": {
      "text/plain": [
       "START_11    10122\n",
       "START        3344\n",
       "Name: product, dtype: int64"
      ]
     },
     "execution_count": 19,
     "metadata": {},
     "output_type": "execute_result"
    }
   ],
   "source": [
    "df_loans['product'].value_counts()"
   ]
  },
  {
   "cell_type": "code",
   "execution_count": 20,
   "metadata": {},
   "outputs": [
    {
     "data": {
      "text/plain": [
       "CLOSED     9137\n",
       "OVERDUE    4329\n",
       "Name: status, dtype: int64"
      ]
     },
     "execution_count": 20,
     "metadata": {},
     "output_type": "execute_result"
    }
   ],
   "source": [
    "df_loans['status'].value_counts()"
   ]
  },
  {
   "cell_type": "code",
   "execution_count": 21,
   "metadata": {},
   "outputs": [
    {
     "data": {
      "image/png": "[encoded data removed]",
      "text/plain": [
       "<Figure size 1080x360 with 2 Axes>"
      ]
     },
     "metadata": {
      "needs_background": "light"
     },
     "output_type": "display_data"
    }
   ],
   "source": [
    "plt.subplots(1, 2, figsize=(15,5))\n",
    "plt.subplot(1,2,1)\n",
    "plt.hist(df_loans['lodging_cnt'], bins = 30)\n",
    "plt.xlabel('Number of prolongations')\n",
    "plt.title('Including zero prolongations')\n",
    "plt.subplot(1,2,2)\n",
    "plt.hist(df_loans[df_loans['lodging_cnt'] > 0]['lodging_cnt'], bins = 30)\n",
    "plt.xlabel('Number of prolongations')\n",
    "plt.title('Omiting zero prolongations')\n",
    "plt.show()"
   ]
  },
  {
   "cell_type": "code",
   "execution_count": 22,
   "metadata": {},
   "outputs": [
    {
     "data": {
      "image/png": "[encoded data removed]",
      "text/plain": [
       "<Figure size 1080x432 with 1 Axes>"
      ]
     },
     "metadata": {
      "needs_background": "light"
     },
     "output_type": "display_data"
    }
   ],
   "source": [
    "plt.figure(figsize=(15,6))\n",
    "sns.distplot(df_loans['repayment_ratio'])\n",
    "plt.axvline(x=0.1, linestyle='--', color='r')\n",
    "plt.axvline(x=0.9, linestyle='--', color='r')\n",
    "plt.text(x=-0.5, y=0.5, s='BAD', color='r', horizontalalignment='center')\n",
    "plt.text(x=0.5, y=0.5, s='UNDEFINED', color='k', horizontalalignment='center')\n",
    "plt.text(x=2, y=0.5, s='GOOD', color='g', horizontalalignment='center')\n",
    "plt.xlabel('Repayment ratio')\n",
    "plt.show()"
   ]
  },
  {
   "cell_type": "markdown",
   "metadata": {},
   "source": [
    "<u>Thoughts</u>\n",
    "\n",
    "Looks like it's better to investigate further who are those clients with repayments ratio from 10% to 60%."
   ]
  },
  {
   "cell_type": "code",
   "execution_count": 23,
   "metadata": {},
   "outputs": [
    {
     "data": {
      "text/html": [
       "<div>\n",
       "<style scoped>\n",
       "    .dataframe tbody tr th:only-of-type {\n",
       "        vertical-align: middle;\n",
       "    }\n",
       "\n",
       "    .dataframe tbody tr th {\n",
       "        vertical-align: top;\n",
       "    }\n",
       "\n",
       "    .dataframe thead th {\n",
       "        text-align: right;\n",
       "    }\n",
       "</style>\n",
       "<table border=\"1\" class=\"dataframe\">\n",
       "  <thead>\n",
       "    <tr style=\"text-align: right;\">\n",
       "      <th></th>\n",
       "      <th>profiles</th>\n",
       "    </tr>\n",
       "    <tr>\n",
       "      <th>loans</th>\n",
       "      <th></th>\n",
       "    </tr>\n",
       "  </thead>\n",
       "  <tbody>\n",
       "    <tr>\n",
       "      <td>1</td>\n",
       "      <td>5894</td>\n",
       "    </tr>\n",
       "    <tr>\n",
       "      <td>2</td>\n",
       "      <td>1671</td>\n",
       "    </tr>\n",
       "    <tr>\n",
       "      <td>3</td>\n",
       "      <td>570</td>\n",
       "    </tr>\n",
       "    <tr>\n",
       "      <td>4</td>\n",
       "      <td>237</td>\n",
       "    </tr>\n",
       "    <tr>\n",
       "      <td>5</td>\n",
       "      <td>124</td>\n",
       "    </tr>\n",
       "  </tbody>\n",
       "</table>\n",
       "</div>"
      ],
      "text/plain": [
       "       profiles\n",
       "loans          \n",
       "1          5894\n",
       "2          1671\n",
       "3           570\n",
       "4           237\n",
       "5           124"
      ]
     },
     "execution_count": 23,
     "metadata": {},
     "output_type": "execute_result"
    }
   ],
   "source": [
    "(df_loans.groupby('profile_id')\n",
    "         .agg(loans=pd.NamedAgg(column='loan', aggfunc='count'))\n",
    "         .reset_index()\n",
    "         .groupby('loans')\n",
    "         .agg(profiles=pd.NamedAgg(column='profile_id', aggfunc='count'))\n",
    "         .head()\n",
    ")"
   ]
  },
  {
   "cell_type": "markdown",
   "metadata": {},
   "source": [
    "<u>Thoughts</u>\n",
    "    \n",
    "- most of the clients takes only one loan\n",
    "- some clients recieves 2-5 loans\n",
    "- only a few clients gets 6 and more loans\n",
    "\n",
    "It looks natural to devide clients into 3 groups:\n",
    "    \n",
    "- `1st` loan\n",
    "- `2nd` loan\n",
    "- `3rd+` loan"
   ]
  },
  {
   "cell_type": "code",
   "execution_count": 24,
   "metadata": {},
   "outputs": [
    {
     "data": {
      "text/html": [
       "<div>\n",
       "<style scoped>\n",
       "    .dataframe tbody tr th:only-of-type {\n",
       "        vertical-align: middle;\n",
       "    }\n",
       "\n",
       "    .dataframe tbody tr th {\n",
       "        vertical-align: top;\n",
       "    }\n",
       "\n",
       "    .dataframe thead th {\n",
       "        text-align: right;\n",
       "    }\n",
       "</style>\n",
       "<table border=\"1\" class=\"dataframe\">\n",
       "  <thead>\n",
       "    <tr style=\"text-align: right;\">\n",
       "      <th></th>\n",
       "      <th>profiles</th>\n",
       "    </tr>\n",
       "    <tr>\n",
       "      <th>loans</th>\n",
       "      <th></th>\n",
       "    </tr>\n",
       "  </thead>\n",
       "  <tbody>\n",
       "    <tr>\n",
       "      <td>1</td>\n",
       "      <td>5894</td>\n",
       "    </tr>\n",
       "    <tr>\n",
       "      <td>2</td>\n",
       "      <td>1671</td>\n",
       "    </tr>\n",
       "    <tr>\n",
       "      <td>3+</td>\n",
       "      <td>1056</td>\n",
       "    </tr>\n",
       "  </tbody>\n",
       "</table>\n",
       "</div>"
      ],
      "text/plain": [
       "       profiles\n",
       "loans          \n",
       "1          5894\n",
       "2          1671\n",
       "3+         1056"
      ]
     },
     "execution_count": 24,
     "metadata": {},
     "output_type": "execute_result"
    }
   ],
   "source": [
    "(df_loans.groupby('profile_id')\n",
    "         .agg(loans=pd.NamedAgg(column='loan', aggfunc='count'))\n",
    "         .reset_index()\n",
    "         .groupby('loans')\n",
    "         .agg(profiles=pd.NamedAgg(column='profile_id', aggfunc='count'))\n",
    "         .reset_index()\n",
    "         .transform(func={'loans': (lambda x: '3+' if x >= 3 else str(x)), 'profiles': (lambda x: x)})\n",
    "         .groupby('loans')\n",
    "         .agg(profiles=pd.NamedAgg(column='profiles', aggfunc='sum'))\n",
    ")"
   ]
  },
  {
   "cell_type": "code",
   "execution_count": 25,
   "metadata": {},
   "outputs": [
    {
     "name": "stderr",
     "output_type": "stream",
     "text": [
      "C:\\Users\\maks1\\Anaconda3\\lib\\site-packages\\pandas\\plotting\\_matplotlib\\converter.py:103: FutureWarning: Using an implicitly registered datetime converter for a matplotlib plotting method. The converter was registered by pandas on import. Future versions of pandas will require you to explicitly register matplotlib converters.\n",
      "\n",
      "To register the converters:\n",
      "\t>>> from pandas.plotting import register_matplotlib_converters\n",
      "\t>>> register_matplotlib_converters()\n",
      "  warnings.warn(msg, FutureWarning)\n"
     ]
    },
    {
     "data": {
      "image/png": "[encoded data removed]",
      "text/plain": [
       "<Figure size 1080x360 with 1 Axes>"
      ]
     },
     "metadata": {
      "needs_background": "light"
     },
     "output_type": "display_data"
    }
   ],
   "source": [
    "df_by_day = (df_loans['begin_date']\n",
    "       .value_counts()\n",
    "       .sort_index()\n",
    "   \n",
    ")\n",
    "\n",
    "plt.figure(figsize=(15,5))\n",
    "plt.plot(df_by_day.index, df_by_day, zorder=2)\n",
    "plt.ylabel('Daily loans')\n",
    "plt.grid(axis='y', linestyle='--')\n",
    "plt.show()"
   ]
  },
  {
   "cell_type": "code",
   "execution_count": 26,
   "metadata": {},
   "outputs": [
    {
     "data": {
      "image/png": "[encoded data removed]",
      "text/plain": [
       "<Figure size 864x360 with 1 Axes>"
      ]
     },
     "metadata": {
      "needs_background": "light"
     },
     "output_type": "display_data"
    }
   ],
   "source": [
    "df_by_month = (df_loans['begin_date']\n",
    "    .dt.strftime('%Y-%m')\n",
    "    .value_counts()\n",
    "    .sort_index()\n",
    ")\n",
    "\n",
    "plt.figure(figsize=(12,5))\n",
    "plt.bar(df_by_month.index, df_by_month, zorder=2)\n",
    "plt.xticks(rotation='vertical')\n",
    "plt.ylabel('Monthly loans')\n",
    "plt.grid(axis='y', linestyle='--')\n",
    "plt.show()"
   ]
  },
  {
   "cell_type": "code",
   "execution_count": 27,
   "metadata": {},
   "outputs": [
    {
     "data": {
      "image/png": "[encoded data removed]",
      "text/plain": [
       "<Figure size 1080x360 with 1 Axes>"
      ]
     },
     "metadata": {
      "needs_background": "light"
     },
     "output_type": "display_data"
    }
   ],
   "source": [
    "df_by_mday = (df_loans['begin_date']\n",
    "    .dt.day\n",
    "    .value_counts()\n",
    "    .sort_index()\n",
    ")\n",
    "\n",
    "plt.figure(figsize=(15,5))\n",
    "plt.bar(df_by_mday.index, df_by_mday, zorder=2)\n",
    "plt.xlabel('Day of the month')\n",
    "plt.ylabel('Number of loans')\n",
    "plt.grid(axis='y', linestyle='--')\n",
    "plt.show()"
   ]
  },
  {
   "cell_type": "code",
   "execution_count": 28,
   "metadata": {},
   "outputs": [
    {
     "data": {
      "image/png": "[encoded data removed]",
      "text/plain": [
       "<Figure size 720x360 with 1 Axes>"
      ]
     },
     "metadata": {
      "needs_background": "light"
     },
     "output_type": "display_data"
    }
   ],
   "source": [
    "df_by_wday = (df_loans['begin_date']\n",
    "    .dt.weekday\n",
    "    .value_counts()\n",
    "    .sort_index()\n",
    ")\n",
    "\n",
    "plt.figure(figsize=(10,5))\n",
    "plt.bar(df_by_wday.index, df_by_wday, zorder=2)\n",
    "plt.xticks(ticks=[0,1,2,3,4,5,6,0], labels=['Sunday','Monday','Tuesday','Thirsady','Wednsday','Friday','Saturday'])\n",
    "plt.xlabel('Day of the month')\n",
    "plt.ylabel('Number of loans')\n",
    "plt.grid(axis='y', linestyle='--')\n",
    "plt.show()"
   ]
  },
  {
   "cell_type": "code",
   "execution_count": null,
   "metadata": {},
   "outputs": [],
   "source": []
  },
  {
   "cell_type": "markdown",
   "metadata": {},
   "source": [
    "### Percentage of credit status by product"
   ]
  },
  {
   "cell_type": "code",
   "execution_count": 189,
   "metadata": {},
   "outputs": [
    {
     "data": {
      "text/plain": [
       "<matplotlib.axes._subplots.AxesSubplot at 0x20d50ff7ec8>"
      ]
     },
     "execution_count": 189,
     "metadata": {},
     "output_type": "execute_result"
    },
    {
     "data": {
      "image/png": "[encoded data removed]",
      "text/plain": [
       "<Figure size 432x288 with 1 Axes>"
      ]
     },
     "metadata": {
      "needs_background": "light"
     },
     "output_type": "display_data"
    }
   ],
   "source": [
    "stat_prod_df = pd.DataFrame.copy(df_loans[['status','product']].groupby(['product','status']).size())\n",
    "\n",
    "# conbert data to percentages\n",
    "perc1 = 100/(stat_prod_df[0]+stat_prod_df[1])\n",
    "perc2 = 100/(stat_prod_df[3]+stat_prod_df[2])\n",
    "stat_prod_df[0] *=perc1\n",
    "stat_prod_df[1] *=perc1\n",
    "stat_prod_df[2] *=perc2\n",
    "stat_prod_df[3] *=perc2\n",
    "stat_prod_df.unstack().plot.bar(title=('Percentage of credit status is sorted by product'), grid = True)"
   ]
  },
  {
   "cell_type": "markdown",
   "metadata": {},
   "source": [
    "'START' product has better predictive model than 'START_11' \\\n",
    "START - 72% closed loans \\\n",
    "START_11 - 67% closed loans"
   ]
  },
  {
   "cell_type": "markdown",
   "metadata": {},
   "source": [
    "### Loans by amount distribution"
   ]
  },
  {
   "cell_type": "code",
   "execution_count": 338,
   "metadata": {
    "scrolled": true
   },
   "outputs": [],
   "source": [
    "amount_df = pd.DataFrame.copy(df_loans.groupby('amount')\n",
    "         .agg(loans=pd.NamedAgg(column='loan', aggfunc='count'))\n",
    "         .reset_index()\n",
    ")\n",
    "\n",
    "# binning data by amount\n",
    "bin_labels = ['0-500', '500-1000','1100-1500','1600-2000','2100-2500','2600-3000','3100-3500','3600-4000',]\n",
    "amount_df['amount_binned'] = pd.qcut(x=amount_df.index, q=8, labels=bin_labels) \n",
    "\n",
    "# get bins sum\n",
    "amount_df = (amount_df.groupby('amount_binned')\n",
    "         .agg(loans_sum=pd.NamedAgg(column='loans', aggfunc='sum'))\n",
    "         .reset_index()\n",
    ")"
   ]
  },
  {
   "cell_type": "code",
   "execution_count": 339,
   "metadata": {},
   "outputs": [
    {
     "data": {
      "text/html": [
       "<div>\n",
       "<style scoped>\n",
       "    .dataframe tbody tr th:only-of-type {\n",
       "        vertical-align: middle;\n",
       "    }\n",
       "\n",
       "    .dataframe tbody tr th {\n",
       "        vertical-align: top;\n",
       "    }\n",
       "\n",
       "    .dataframe thead th {\n",
       "        text-align: right;\n",
       "    }\n",
       "</style>\n",
       "<table border=\"1\" class=\"dataframe\">\n",
       "  <thead>\n",
       "    <tr style=\"text-align: right;\">\n",
       "      <th></th>\n",
       "      <th>amount_binned</th>\n",
       "      <th>loans_sum</th>\n",
       "    </tr>\n",
       "  </thead>\n",
       "  <tbody>\n",
       "    <tr>\n",
       "      <td>0</td>\n",
       "      <td>0-500</td>\n",
       "      <td>2132</td>\n",
       "    </tr>\n",
       "    <tr>\n",
       "      <td>1</td>\n",
       "      <td>500-1000</td>\n",
       "      <td>1436</td>\n",
       "    </tr>\n",
       "    <tr>\n",
       "      <td>2</td>\n",
       "      <td>1100-1500</td>\n",
       "      <td>1549</td>\n",
       "    </tr>\n",
       "    <tr>\n",
       "      <td>3</td>\n",
       "      <td>1600-2000</td>\n",
       "      <td>4058</td>\n",
       "    </tr>\n",
       "    <tr>\n",
       "      <td>4</td>\n",
       "      <td>2100-2500</td>\n",
       "      <td>404</td>\n",
       "    </tr>\n",
       "    <tr>\n",
       "      <td>5</td>\n",
       "      <td>2600-3000</td>\n",
       "      <td>2366</td>\n",
       "    </tr>\n",
       "    <tr>\n",
       "      <td>6</td>\n",
       "      <td>3100-3500</td>\n",
       "      <td>120</td>\n",
       "    </tr>\n",
       "    <tr>\n",
       "      <td>7</td>\n",
       "      <td>3600-4000</td>\n",
       "      <td>1401</td>\n",
       "    </tr>\n",
       "  </tbody>\n",
       "</table>\n",
       "</div>"
      ],
      "text/plain": [
       "  amount_binned  loans_sum\n",
       "0         0-500       2132\n",
       "1      500-1000       1436\n",
       "2     1100-1500       1549\n",
       "3     1600-2000       4058\n",
       "4     2100-2500        404\n",
       "5     2600-3000       2366\n",
       "6     3100-3500        120\n",
       "7     3600-4000       1401"
      ]
     },
     "execution_count": 339,
     "metadata": {},
     "output_type": "execute_result"
    }
   ],
   "source": [
    "amount_df"
   ]
  },
  {
   "cell_type": "code",
   "execution_count": 340,
   "metadata": {
    "scrolled": true
   },
   "outputs": [
    {
     "data": {
      "image/png": "[encoded data removed]",
      "text/plain": [
       "<Figure size 1080x360 with 1 Axes>"
      ]
     },
     "metadata": {
      "needs_background": "light"
     },
     "output_type": "display_data"
    }
   ],
   "source": [
    "# plot diagram\n",
    "plt.figure(figsize=(15,5))\n",
    "ax = sns.barplot(x=\"amount_binned\", y=\"loans_sum\", data=amount_df, ci=None)\n",
    "plt.title('Loan`s amount distribution')\n",
    "plt.show()"
   ]
  },
  {
   "cell_type": "code",
   "execution_count": 358,
   "metadata": {},
   "outputs": [
    {
     "data": {
      "image/png": "[encoded data removed]",
      "text/plain": [
       "<Figure size 1080x360 with 1 Axes>"
      ]
     },
     "metadata": {
      "needs_background": "light"
     },
     "output_type": "display_data"
    }
   ],
   "source": [
    "amount_df2 = pd.DataFrame.copy(df_loans.groupby('amount')\n",
    "         .agg(loans=pd.NamedAgg(column='loan', aggfunc='count'))\n",
    "         .reset_index()\n",
    ")\n",
    "\n",
    "# binning data by amount\n",
    "cut_labels_4 = ['0-500', '500-1000','1100-1500','1600-2000','2100-3000','3600-4000']\n",
    "cut_bins = [0, 500, 1000, 1500, 2000, 3000, 4000]\n",
    "amount_df2['amount_binned'] = pd.cut(amount_df2['amount'], bins=cut_bins, labels=cut_labels_4)\n",
    "\n",
    "amount_df2 = (amount_df2.groupby('amount_binned')\n",
    "         .agg(loans_sum=pd.NamedAgg(column='loans', aggfunc='sum'))\n",
    "         .reset_index()\n",
    ")\n",
    "\n",
    "\n",
    "# plot diagram\n",
    "plt.figure(figsize=(15,5))\n",
    "ax = sns.barplot(x=\"amount_binned\", y=\"loans_sum\", data=amount_df2, ci=None)\n",
    "plt.title('Loan`s amount distribution')\n",
    "plt.grid(True)\n",
    "plt.show()"
   ]
  },
  {
   "cell_type": "markdown",
   "metadata": {},
   "source": [
    "during preprocessing can cut amount by 4 or 6 bins \\\n",
    "4 -  ['0-1000','1100-2000','2100-3000','3100-4000'] \\\n",
    "6 - ['0-500', '500-1000','1100-1500','1600-2000','2100-3000','3100-4000']"
   ]
  },
  {
   "cell_type": "markdown",
   "metadata": {},
   "source": [
    "### Percantages by amount`s bins"
   ]
  },
  {
   "cell_type": "code",
   "execution_count": 381,
   "metadata": {},
   "outputs": [
    {
     "data": {
      "text/html": [
       "<div>\n",
       "<style scoped>\n",
       "    .dataframe tbody tr th:only-of-type {\n",
       "        vertical-align: middle;\n",
       "    }\n",
       "\n",
       "    .dataframe tbody tr th {\n",
       "        vertical-align: top;\n",
       "    }\n",
       "\n",
       "    .dataframe thead th {\n",
       "        text-align: right;\n",
       "    }\n",
       "</style>\n",
       "<table border=\"1\" class=\"dataframe\">\n",
       "  <thead>\n",
       "    <tr style=\"text-align: right;\">\n",
       "      <th></th>\n",
       "      <th>amount</th>\n",
       "      <th>status</th>\n",
       "      <th>amount_binned</th>\n",
       "    </tr>\n",
       "  </thead>\n",
       "  <tbody>\n",
       "    <tr>\n",
       "      <td>1</td>\n",
       "      <td>700.0</td>\n",
       "      <td>CLOSED</td>\n",
       "      <td>0-1000</td>\n",
       "    </tr>\n",
       "    <tr>\n",
       "      <td>2</td>\n",
       "      <td>2000.0</td>\n",
       "      <td>CLOSED</td>\n",
       "      <td>1100-2000</td>\n",
       "    </tr>\n",
       "    <tr>\n",
       "      <td>3</td>\n",
       "      <td>700.0</td>\n",
       "      <td>CLOSED</td>\n",
       "      <td>0-1000</td>\n",
       "    </tr>\n",
       "    <tr>\n",
       "      <td>4</td>\n",
       "      <td>2300.0</td>\n",
       "      <td>CLOSED</td>\n",
       "      <td>2100-4000</td>\n",
       "    </tr>\n",
       "    <tr>\n",
       "      <td>5</td>\n",
       "      <td>3000.0</td>\n",
       "      <td>CLOSED</td>\n",
       "      <td>2100-4000</td>\n",
       "    </tr>\n",
       "  </tbody>\n",
       "</table>\n",
       "</div>"
      ],
      "text/plain": [
       "   amount  status amount_binned\n",
       "1   700.0  CLOSED        0-1000\n",
       "2  2000.0  CLOSED     1100-2000\n",
       "3   700.0  CLOSED        0-1000\n",
       "4  2300.0  CLOSED     2100-4000\n",
       "5  3000.0  CLOSED     2100-4000"
      ]
     },
     "execution_count": 381,
     "metadata": {},
     "output_type": "execute_result"
    }
   ],
   "source": [
    "binning_by_amount_df = pd.DataFrame.copy(df_loans[['amount', 'status']])\n",
    "\n",
    "# binning data by amount\n",
    "cut_labels_4 = ['0-1000','1100-2000','2100-4000']\n",
    "cut_bins = [0, 1000, 2000, 4000]\n",
    "binning_by_amount_df['amount_binned'] = pd.cut(binning_by_amount_df['amount'], bins=cut_bins, labels=cut_labels_4)\n",
    "\n",
    "binning_by_amount_df.head()"
   ]
  },
  {
   "cell_type": "code",
   "execution_count": 383,
   "metadata": {},
   "outputs": [
    {
     "data": {
      "text/html": [
       "<div>\n",
       "<style scoped>\n",
       "    .dataframe tbody tr th:only-of-type {\n",
       "        vertical-align: middle;\n",
       "    }\n",
       "\n",
       "    .dataframe tbody tr th {\n",
       "        vertical-align: top;\n",
       "    }\n",
       "\n",
       "    .dataframe thead th {\n",
       "        text-align: right;\n",
       "    }\n",
       "</style>\n",
       "<table border=\"1\" class=\"dataframe\">\n",
       "  <thead>\n",
       "    <tr style=\"text-align: right;\">\n",
       "      <th></th>\n",
       "      <th>amount_binned</th>\n",
       "      <th>closed_persent</th>\n",
       "    </tr>\n",
       "  </thead>\n",
       "  <tbody>\n",
       "    <tr>\n",
       "      <td>0</td>\n",
       "      <td>0-1000</td>\n",
       "      <td>73.066143</td>\n",
       "    </tr>\n",
       "    <tr>\n",
       "      <td>1</td>\n",
       "      <td>1100-2000</td>\n",
       "      <td>66.791511</td>\n",
       "    </tr>\n",
       "    <tr>\n",
       "      <td>2</td>\n",
       "      <td>2100-4000</td>\n",
       "      <td>64.903286</td>\n",
       "    </tr>\n",
       "  </tbody>\n",
       "</table>\n",
       "</div>"
      ],
      "text/plain": [
       "  amount_binned  closed_persent\n",
       "0        0-1000       73.066143\n",
       "1     1100-2000       66.791511\n",
       "2     2100-4000       64.903286"
      ]
     },
     "execution_count": 383,
     "metadata": {},
     "output_type": "execute_result"
    }
   ],
   "source": [
    "binning_by_amount_df.drop('amount' , axis = 1, inplace = True)\n",
    "\n",
    "# create two dataframe to calculate percentage\n",
    "d1 = pd.DataFrame.copy(binning_by_amount_df[binning_by_amount_df['status']=='CLOSED'].groupby('amount_binned')\n",
    "         .agg(closed_persent=pd.NamedAgg(column='status', aggfunc='count'))\n",
    "         .reset_index()\n",
    ")\n",
    "\n",
    "d2 = pd.DataFrame.copy(binning_by_amount_df.groupby('amount_binned')\n",
    "         .agg(closed_persent=pd.NamedAgg(column='status', aggfunc='count'))\n",
    "         .reset_index()\n",
    ")\n",
    "\n",
    "d1['closed_persent'] = 100/d2['closed_persent']*d1['closed_persent']\n",
    "d1"
   ]
  },
  {
   "cell_type": "code",
   "execution_count": 384,
   "metadata": {},
   "outputs": [
    {
     "data": {
      "text/html": [
       "<div>\n",
       "<style scoped>\n",
       "    .dataframe tbody tr th:only-of-type {\n",
       "        vertical-align: middle;\n",
       "    }\n",
       "\n",
       "    .dataframe tbody tr th {\n",
       "        vertical-align: top;\n",
       "    }\n",
       "\n",
       "    .dataframe thead th {\n",
       "        text-align: right;\n",
       "    }\n",
       "</style>\n",
       "<table border=\"1\" class=\"dataframe\">\n",
       "  <thead>\n",
       "    <tr style=\"text-align: right;\">\n",
       "      <th></th>\n",
       "      <th>status</th>\n",
       "      <th>amount_binned</th>\n",
       "    </tr>\n",
       "  </thead>\n",
       "  <tbody>\n",
       "    <tr>\n",
       "      <td>1</td>\n",
       "      <td>CLOSED</td>\n",
       "      <td>500-1000</td>\n",
       "    </tr>\n",
       "    <tr>\n",
       "      <td>2</td>\n",
       "      <td>CLOSED</td>\n",
       "      <td>1600-2000</td>\n",
       "    </tr>\n",
       "    <tr>\n",
       "      <td>3</td>\n",
       "      <td>CLOSED</td>\n",
       "      <td>500-1000</td>\n",
       "    </tr>\n",
       "    <tr>\n",
       "      <td>4</td>\n",
       "      <td>CLOSED</td>\n",
       "      <td>2100-3000</td>\n",
       "    </tr>\n",
       "    <tr>\n",
       "      <td>5</td>\n",
       "      <td>CLOSED</td>\n",
       "      <td>2100-3000</td>\n",
       "    </tr>\n",
       "  </tbody>\n",
       "</table>\n",
       "</div>"
      ],
      "text/plain": [
       "   status amount_binned\n",
       "1  CLOSED      500-1000\n",
       "2  CLOSED     1600-2000\n",
       "3  CLOSED      500-1000\n",
       "4  CLOSED     2100-3000\n",
       "5  CLOSED     2100-3000"
      ]
     },
     "execution_count": 384,
     "metadata": {},
     "output_type": "execute_result"
    }
   ],
   "source": [
    "binning_by_amount_df = pd.DataFrame.copy(df_loans[['amount', 'status']])\n",
    "\n",
    "# binning data by amount\n",
    "cut_labels_4 = ['0-500', '500-1000','1100-1500','1600-2000','2100-3000','3600-4000']\n",
    "cut_bins = [0, 500, 1000, 1500, 2000, 3000, 4000]\n",
    "binning_by_amount_df['amount_binned'] = pd.cut(binning_by_amount_df['amount'], bins=cut_bins, labels=cut_labels_4)\n",
    "\n",
    "binning_by_amount_df.drop('amount' , axis = 1, inplace = True)\n",
    "\n",
    "binning_by_amount_df.head()"
   ]
  },
  {
   "cell_type": "code",
   "execution_count": 385,
   "metadata": {
    "scrolled": true
   },
   "outputs": [
    {
     "data": {
      "text/html": [
       "<div>\n",
       "<style scoped>\n",
       "    .dataframe tbody tr th:only-of-type {\n",
       "        vertical-align: middle;\n",
       "    }\n",
       "\n",
       "    .dataframe tbody tr th {\n",
       "        vertical-align: top;\n",
       "    }\n",
       "\n",
       "    .dataframe thead th {\n",
       "        text-align: right;\n",
       "    }\n",
       "</style>\n",
       "<table border=\"1\" class=\"dataframe\">\n",
       "  <thead>\n",
       "    <tr style=\"text-align: right;\">\n",
       "      <th></th>\n",
       "      <th>amount_binned</th>\n",
       "      <th>closed_persent</th>\n",
       "    </tr>\n",
       "  </thead>\n",
       "  <tbody>\n",
       "    <tr>\n",
       "      <td>0</td>\n",
       "      <td>0-500</td>\n",
       "      <td>72.420263</td>\n",
       "    </tr>\n",
       "    <tr>\n",
       "      <td>1</td>\n",
       "      <td>500-1000</td>\n",
       "      <td>74.025070</td>\n",
       "    </tr>\n",
       "    <tr>\n",
       "      <td>2</td>\n",
       "      <td>1100-1500</td>\n",
       "      <td>69.012266</td>\n",
       "    </tr>\n",
       "    <tr>\n",
       "      <td>3</td>\n",
       "      <td>1600-2000</td>\n",
       "      <td>65.943815</td>\n",
       "    </tr>\n",
       "    <tr>\n",
       "      <td>4</td>\n",
       "      <td>2100-3000</td>\n",
       "      <td>63.501805</td>\n",
       "    </tr>\n",
       "    <tr>\n",
       "      <td>5</td>\n",
       "      <td>3600-4000</td>\n",
       "      <td>67.455621</td>\n",
       "    </tr>\n",
       "  </tbody>\n",
       "</table>\n",
       "</div>"
      ],
      "text/plain": [
       "  amount_binned  closed_persent\n",
       "0         0-500       72.420263\n",
       "1      500-1000       74.025070\n",
       "2     1100-1500       69.012266\n",
       "3     1600-2000       65.943815\n",
       "4     2100-3000       63.501805\n",
       "5     3600-4000       67.455621"
      ]
     },
     "execution_count": 385,
     "metadata": {},
     "output_type": "execute_result"
    }
   ],
   "source": [
    "# Percents by another binning\n",
    "\n",
    "d1 = pd.DataFrame.copy(binning_by_amount_df[binning_by_amount_df['status']=='CLOSED'].groupby('amount_binned')\n",
    "         .agg(closed_persent=pd.NamedAgg(column='status', aggfunc='count'))\n",
    "         .reset_index()\n",
    ")\n",
    "\n",
    "d2 = pd.DataFrame.copy(binning_by_amount_df.groupby('amount_binned')\n",
    "         .agg(closed_persent=pd.NamedAgg(column='status', aggfunc='count'))\n",
    "         .reset_index()\n",
    ")\n",
    "\n",
    "d1['closed_persent'] = 100/d2['closed_persent']*d1['closed_persent']\n",
    "d1"
   ]
  },
  {
   "cell_type": "markdown",
   "metadata": {},
   "source": [
    "#### conclusion\n",
    "with the growth of amount value , the percentage of the probability of closing a loan decreases\\\n",
    "but when people were getting the maximum amount, probability  of closing was increasing \\\n"
   ]
  },
  {
   "cell_type": "markdown",
   "metadata": {},
   "source": [
    "##### during preprocessing set 3 bins of amount value"
   ]
  },
  {
   "cell_type": "code",
   "execution_count": null,
   "metadata": {},
   "outputs": [],
   "source": []
  },
  {
   "cell_type": "code",
   "execution_count": null,
   "metadata": {},
   "outputs": [],
   "source": []
  }
 ],
 "metadata": {
  "kernelspec": {
   "display_name": "Python 3",
   "language": "python",
   "name": "python3"
  },
  "language_info": {
   "codemirror_mode": {
    "name": "ipython",
    "version": 3
   },
   "file_extension": ".py",
   "mimetype": "text/x-python",
   "name": "python",
   "nbconvert_exporter": "python",
   "pygments_lexer": "ipython3",
   "version": "3.7.4"
  }
 },
 "nbformat": 4,
 "nbformat_minor": 4
}
